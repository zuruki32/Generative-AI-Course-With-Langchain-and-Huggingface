{
 "cells": [
  {
   "cell_type": "code",
   "execution_count": 1,
   "id": "961cc4e0",
   "metadata": {},
   "outputs": [
    {
     "name": "stdout",
     "output_type": "stream",
     "text": [
      "10 <class 'int'>\n",
      "hellow <class 'str'>\n",
      "3.14 <class 'float'>\n"
     ]
    }
   ],
   "source": [
    "var= 10\n",
    "print(var,type(var))\n",
    "var = \"hellow\"\n",
    "print(var,type(var))\n",
    "\n",
    "var = 3.14\n",
    "print(var,type(var))"
   ]
  },
  {
   "cell_type": "code",
   "execution_count": 2,
   "id": "864f1504",
   "metadata": {},
   "outputs": [
    {
     "name": "stdout",
     "output_type": "stream",
     "text": [
      "sum: 205.0\n",
      "difference: -21.0\n",
      "product: 10396.0\n",
      "quotient: 0.8141592920353983\n"
     ]
    }
   ],
   "source": [
    "#calculator\n",
    "num1= float(input(\"enter the first number:\"))\n",
    "num2 = float(input(\"enter the second number\"))\n",
    "\n",
    "sum = num1 + num2\n",
    "difference = num1 - num2\n",
    "product = num1*num2\n",
    "quotient = num1/num2\n",
    "\n",
    "print(\"sum:\", sum)\n",
    "print(\"difference:\",difference)\n",
    "print(\"product:\", product)\n",
    "print(\"quotient:\",quotient)"
   ]
  },
  {
   "cell_type": "code",
   "execution_count": 3,
   "id": "67cc7291",
   "metadata": {},
   "outputs": [
    {
     "name": "stdout",
     "output_type": "stream",
     "text": [
      "the number is positive\n",
      "the number is even\n"
     ]
    }
   ],
   "source": [
    "num = int(input(\"enter the numbre\"))\n",
    "\n",
    "\n",
    "if num>0:\n",
    "    print(\"the number is positive\")\n",
    "    if num%2==0:\n",
    "        print(\"the number is even\")\n",
    "    else:\n",
    "        print(\"the number is odd\")\n",
    "else:\n",
    "    print(\"the number is negative\")"
   ]
  },
  {
   "cell_type": "code",
   "execution_count": 5,
   "id": "9dcb1ae0",
   "metadata": {},
   "outputs": [
    {
     "name": "stdout",
     "output_type": "stream",
     "text": [
      "0\n",
      "1\n",
      "2\n",
      "3\n",
      "4\n"
     ]
    }
   ],
   "source": [
    "for i in range(5):\n",
    "    print(i)"
   ]
  },
  {
   "cell_type": "code",
   "execution_count": null,
   "id": "0566c1d4",
   "metadata": {},
   "outputs": [
    {
     "name": "stdout",
     "output_type": "stream",
     "text": [
      "1\n",
      "3\n",
      "5\n",
      "7\n",
      "9\n",
      "11\n",
      "13\n",
      "15\n",
      "17\n",
      "19\n"
     ]
    }
   ],
   "source": [
    "for i in range(1,20,2):\n",
    "    print(i)"
   ]
  },
  {
   "cell_type": "code",
   "execution_count": 8,
   "id": "a23f9267",
   "metadata": {},
   "outputs": [
    {
     "name": "stdout",
     "output_type": "stream",
     "text": [
      "0\n",
      "1\n",
      "2\n",
      "3\n",
      "4\n"
     ]
    }
   ],
   "source": [
    "count =0\n",
    "\n",
    "while count<5:\n",
    "    print(count)\n",
    "    count +=1\n"
   ]
  },
  {
   "cell_type": "code",
   "execution_count": 9,
   "id": "11a2d436",
   "metadata": {},
   "outputs": [
    {
     "name": "stdout",
     "output_type": "stream",
     "text": [
      "0\n",
      "1\n",
      "2\n",
      "3\n",
      "4\n"
     ]
    }
   ],
   "source": [
    "for i in range(10):\n",
    "    if i==5:\n",
    "        break\n",
    "    print(i)"
   ]
  },
  {
   "cell_type": "code",
   "execution_count": 10,
   "id": "7995c81b",
   "metadata": {},
   "outputs": [
    {
     "name": "stdout",
     "output_type": "stream",
     "text": [
      "1\n",
      "3\n",
      "5\n",
      "7\n",
      "9\n"
     ]
    }
   ],
   "source": [
    "for i in range(10):\n",
    "    if i%2==0:\n",
    "        continue\n",
    "    print(i)"
   ]
  },
  {
   "cell_type": "code",
   "execution_count": 12,
   "id": "5d280253",
   "metadata": {},
   "outputs": [
    {
     "name": "stdout",
     "output_type": "stream",
     "text": [
      "0\n",
      "1\n",
      "2\n",
      "the number is 3\n",
      "3\n",
      "4\n",
      "5\n",
      "6\n",
      "7\n",
      "8\n",
      "9\n"
     ]
    }
   ],
   "source": [
    "for i in range(10):\n",
    "    if i==3:\n",
    "        print(\"the number is\",i)\n",
    "        pass\n",
    "    print(i) "
   ]
  },
  {
   "cell_type": "code",
   "execution_count": 13,
   "id": "3d839d04",
   "metadata": {},
   "outputs": [
    {
     "name": "stdout",
     "output_type": "stream",
     "text": [
      "i:0 and j:0\n",
      "i:0 and j:1\n",
      "i:0 and j:2\n",
      "i:0 and j:3\n",
      "i:1 and j:0\n",
      "i:1 and j:1\n",
      "i:1 and j:2\n",
      "i:1 and j:3\n",
      "i:2 and j:0\n",
      "i:2 and j:1\n",
      "i:2 and j:2\n",
      "i:2 and j:3\n",
      "i:3 and j:0\n",
      "i:3 and j:1\n",
      "i:3 and j:2\n",
      "i:3 and j:3\n",
      "i:4 and j:0\n",
      "i:4 and j:1\n",
      "i:4 and j:2\n",
      "i:4 and j:3\n"
     ]
    }
   ],
   "source": [
    "for i in range(5):\n",
    "    for j in range(4):\n",
    "        print(f\"i:{i} and j:{j}\")"
   ]
  },
  {
   "cell_type": "code",
   "execution_count": 5,
   "id": "97d8cee9",
   "metadata": {},
   "outputs": [
    {
     "name": "stdout",
     "output_type": "stream",
     "text": [
      "sum 55\n"
     ]
    }
   ],
   "source": [
    "num = int(input(\"enter the number:\"))\n",
    "sum = 0\n",
    "count = 1\n",
    "while count<= num:\n",
    "    sum = sum + count\n",
    "    count = count +1\n",
    "print(\"sum\",sum)\n"
   ]
  },
  {
   "cell_type": "code",
   "execution_count": 6,
   "id": "8de5370e",
   "metadata": {},
   "outputs": [
    {
     "name": "stdout",
     "output_type": "stream",
     "text": [
      "110\n"
     ]
    }
   ],
   "source": [
    "\n",
    "for i in range(num+1):\n",
    "    sum = sum+i\n",
    "print(sum)"
   ]
  },
  {
   "cell_type": "code",
   "execution_count": 13,
   "id": "10fb8c1d",
   "metadata": {},
   "outputs": [
    {
     "name": "stdout",
     "output_type": "stream",
     "text": [
      "[2, 3, 5, 7, 11, 13, 17, 19, 23, 29, 31, 37, 41, 43, 47, 53, 59, 61, 67, 71, 73, 79, 83, 89, 97]\n"
     ]
    }
   ],
   "source": [
    "prime_numbers = []\n",
    "for num in range(1,101):\n",
    "    if num>1:\n",
    "        for i in range(2,num):\n",
    "            if num%i ==0:\n",
    "                break\n",
    "        else:\n",
    "            prime_numbers.append(num)\n",
    "   \n",
    "print(prime_numbers)"
   ]
  },
  {
   "cell_type": "code",
   "execution_count": 14,
   "id": "6ec63f07",
   "metadata": {},
   "outputs": [],
   "source": [
    "list = [\"krish\", \"jack\", 1,2 ,3,4]\n"
   ]
  },
  {
   "cell_type": "code",
   "execution_count": 31,
   "id": "ae7124f9",
   "metadata": {},
   "outputs": [
    {
     "name": "stdout",
     "output_type": "stream",
     "text": [
      "['p', 'orange', 'orange', 'orange', 'orange', 'l', 'krish', 'e', 'benana', 'benana', 'benana', 'a']\n",
      "a\n",
      "['p', 'orange', 'orange', 'l', 'e', 'benana', 'a']\n"
     ]
    }
   ],
   "source": [
    "print(list[1:])\n",
    "print(list[-1])\n",
    "print(list[::2])"
   ]
  },
  {
   "cell_type": "code",
   "execution_count": 18,
   "id": "31c6300c",
   "metadata": {},
   "outputs": [
    {
     "name": "stdout",
     "output_type": "stream",
     "text": [
      "['krish', 'jack', 'watermelon', 2, 3, 4]\n"
     ]
    }
   ],
   "source": [
    "list[2] = \"watermelon\"\n",
    "print(list)"
   ]
  },
  {
   "cell_type": "code",
   "execution_count": 19,
   "id": "354d069b",
   "metadata": {},
   "outputs": [
    {
     "name": "stdout",
     "output_type": "stream",
     "text": [
      "['krish', 'a', 'p', 'p', 'l', 'e']\n"
     ]
    }
   ],
   "source": [
    "list[1:] = \"apple\"\n",
    "print(list)"
   ]
  },
  {
   "cell_type": "code",
   "execution_count": null,
   "id": "30296f42",
   "metadata": {},
   "outputs": [
    {
     "name": "stdout",
     "output_type": "stream",
     "text": [
      "['krish', 'a', 'p', 'benana', 'benana', 'benana', 'p', 'l', 'e', 'orange', 'orange', 'orange', 'orange', 'orange']\n"
     ]
    }
   ],
   "source": [
    "#this would add it to the end of the list\n",
    "list.append(\"orange\")\n",
    "#this adding to specific index\n",
    "list.insert(3,\"benana\")\n",
    "#remove the first occurance of an item\n",
    "list.remove(\"orange\")\n",
    " \n",
    "print(list)"
   ]
  },
  {
   "cell_type": "code",
   "execution_count": 26,
   "id": "aeff4001",
   "metadata": {},
   "outputs": [
    {
     "name": "stdout",
     "output_type": "stream",
     "text": [
      "orange\n",
      "['krish', 'a', 'p', 'benana', 'benana', 'benana', 'p', 'l', 'e', 'orange', 'orange', 'orange', 'orange']\n"
     ]
    }
   ],
   "source": [
    "popped_list = list.pop()\n",
    "print(popped_list)\n",
    "print(list)"
   ]
  },
  {
   "cell_type": "code",
   "execution_count": 30,
   "id": "e3a423e9",
   "metadata": {},
   "outputs": [
    {
     "name": "stdout",
     "output_type": "stream",
     "text": [
      "['p', 'p', 'orange', 'orange', 'orange', 'orange', 'l', 'krish', 'e', 'benana', 'benana', 'benana', 'a']\n"
     ]
    }
   ],
   "source": [
    "index = list.index(\"orange\")\n",
    "count = list.count(\"orange\")\n",
    "list.sort()\n",
    "list.reverse()\n",
    "print(list)"
   ]
  },
  {
   "cell_type": "code",
   "execution_count": 33,
   "id": "2a1ed6cd",
   "metadata": {},
   "outputs": [
    {
     "name": "stdout",
     "output_type": "stream",
     "text": [
      "p\n",
      "p\n",
      "orange\n",
      "orange\n",
      "orange\n",
      "orange\n",
      "l\n",
      "krish\n",
      "e\n",
      "benana\n",
      "benana\n",
      "benana\n",
      "a\n"
     ]
    }
   ],
   "source": [
    "for i in list:\n",
    "    print(i)"
   ]
  },
  {
   "cell_type": "code",
   "execution_count": null,
   "id": "11555527",
   "metadata": {},
   "outputs": [
    {
     "name": "stdout",
     "output_type": "stream",
     "text": [
      "0 p\n",
      "1 p\n",
      "2 orange\n",
      "3 orange\n",
      "4 orange\n",
      "5 orange\n",
      "6 l\n",
      "7 krish\n",
      "8 e\n",
      "9 benana\n",
      "10 benana\n",
      "11 benana\n",
      "12 a\n"
     ]
    }
   ],
   "source": [
    "#iterate with index of the list\n",
    "for index,i in enumerate(list):\n",
    "    print(index,i)\n",
    "    "
   ]
  },
  {
   "cell_type": "code",
   "execution_count": null,
   "id": "5024ba29",
   "metadata": {},
   "outputs": [
    {
     "name": "stdout",
     "output_type": "stream",
     "text": [
      "['p', 'p', 'orange', 'orange', 'orange', 'orange', 'l', 'krish', 'e', 'benana', 'benana', 'benana', 'a', 1, 4, 9, 16, 25, 36, 49, 64, 81]\n"
     ]
    }
   ],
   "source": [
    "for i in range(1,10):\n",
    "    list.append(i**2)\n",
    "print(list)"
   ]
  },
  {
   "cell_type": "code",
   "execution_count": 38,
   "id": "08e6ab16",
   "metadata": {},
   "outputs": [
    {
     "data": {
      "text/plain": [
       "[0, 4, 16, 36, 64]"
      ]
     },
     "execution_count": 38,
     "metadata": {},
     "output_type": "execute_result"
    }
   ],
   "source": [
    "[i**2 for i in range(10) if i%2 ==0]"
   ]
  },
  {
   "cell_type": "code",
   "execution_count": 40,
   "id": "1ec95ed0",
   "metadata": {},
   "outputs": [
    {
     "name": "stdout",
     "output_type": "stream",
     "text": [
      "[[1, 'a'], [1, 'b'], [1, 'c'], [1, 'd'], [1, 'e'], [2, 'a'], [2, 'b'], [2, 'c'], [2, 'd'], [2, 'e'], [4, 'a'], [4, 'b'], [4, 'c'], [4, 'd'], [4, 'e'], [3, 'a'], [3, 'b'], [3, 'c'], [3, 'd'], [3, 'e'], [5, 'a'], [5, 'b'], [5, 'c'], [5, 'd'], [5, 'e']]\n"
     ]
    }
   ],
   "source": [
    "list1 = [1, 2, 4, 3, 5] \n",
    "list2 = ['a','b','c','d','e']\n",
    "pair = [[i,j] for i in list1 for j in list2 ]\n",
    "print(pair)"
   ]
  },
  {
   "cell_type": "code",
   "execution_count": 42,
   "id": "ca642b5f",
   "metadata": {},
   "outputs": [
    {
     "name": "stdout",
     "output_type": "stream",
     "text": [
      "[6, 5, 4, 4]\n"
     ]
    }
   ],
   "source": [
    "words = [\"hellow\",\"whats\",\"your\",\"name\"]\n",
    "lenght = [len(i) for i in words] \n",
    "print(lenght)"
   ]
  },
  {
   "cell_type": "code",
   "execution_count": 45,
   "id": "ee925bb8",
   "metadata": {},
   "outputs": [],
   "source": [
    "newtuple = ()\n",
    "newtuples = tuple()\n",
    "newlist = []\n",
    "\n"
   ]
  },
  {
   "cell_type": "code",
   "execution_count": 57,
   "id": "74fdd8ea",
   "metadata": {},
   "outputs": [
    {
     "data": {
      "text/plain": [
       "('a', 'b', 'c', 'd')"
      ]
     },
     "execution_count": 57,
     "metadata": {},
     "output_type": "execute_result"
    }
   ],
   "source": [
    "#a list can convert to a tuple and vise versa\n",
    "number = tuple([1,2,3,4,5,6,7,8,9,0])\n",
    "elements = ['a','b','c','d']\n",
    "elements = tuple(elements)\n",
    "elements"
   ]
  },
  {
   "cell_type": "code",
   "execution_count": 58,
   "id": "34a86f1a",
   "metadata": {},
   "outputs": [
    {
     "data": {
      "text/plain": [
       "('a', 'b', 'c', 'd', 1, 2, 3, 4, 5, 6, 7, 8, 9, 0)"
      ]
     },
     "execution_count": 58,
     "metadata": {},
     "output_type": "execute_result"
    }
   ],
   "source": [
    "concatenat_tuples = elements + number\n",
    "concatenat_tuples"
   ]
  },
  {
   "cell_type": "code",
   "execution_count": null,
   "id": "e0d22d63",
   "metadata": {},
   "outputs": [
    {
     "data": {
      "text/plain": [
       "('a',\n",
       " 'b',\n",
       " 'c',\n",
       " 'd',\n",
       " 1,\n",
       " 2,\n",
       " 3,\n",
       " 4,\n",
       " 5,\n",
       " 6,\n",
       " 7,\n",
       " 8,\n",
       " 9,\n",
       " 0,\n",
       " 'a',\n",
       " 'b',\n",
       " 'c',\n",
       " 'd',\n",
       " 1,\n",
       " 2,\n",
       " 3,\n",
       " 4,\n",
       " 5,\n",
       " 6,\n",
       " 7,\n",
       " 8,\n",
       " 9,\n",
       " 0,\n",
       " 'a',\n",
       " 'b',\n",
       " 'c',\n",
       " 'd',\n",
       " 1,\n",
       " 2,\n",
       " 3,\n",
       " 4,\n",
       " 5,\n",
       " 6,\n",
       " 7,\n",
       " 8,\n",
       " 9,\n",
       " 0)"
      ]
     },
     "execution_count": 59,
     "metadata": {},
     "output_type": "execute_result"
    }
   ],
   "source": [
    "#the entire tuple appended 3 times\n",
    "concatenat_tuples*3"
   ]
  },
  {
   "cell_type": "code",
   "execution_count": 64,
   "id": "6239daa6",
   "metadata": {},
   "outputs": [
    {
     "name": "stdout",
     "output_type": "stream",
     "text": [
      "1\n"
     ]
    }
   ],
   "source": [
    "print(concatenat_tuples.count(4))"
   ]
  },
  {
   "cell_type": "code",
   "execution_count": 67,
   "id": "c475abf7",
   "metadata": {},
   "outputs": [
    {
     "name": "stdout",
     "output_type": "stream",
     "text": [
      "(1, 2, 3, 'hi', 'no')\n",
      "1 2 3\n"
     ]
    }
   ],
   "source": [
    "packed_tuple = 1,2,3,\"hi\",\"no\"\n",
    "print(packed_tuple)\n",
    "a,b,c ,d,e= packed_tuple\n",
    "print(a,b,c)"
   ]
  },
  {
   "cell_type": "code",
   "execution_count": 68,
   "id": "92fdee87",
   "metadata": {},
   "outputs": [
    {
     "name": "stdout",
     "output_type": "stream",
     "text": [
      "1 [2, 3, 'hi'] no\n"
     ]
    }
   ],
   "source": [
    "packed_tuple = 1,2,3,\"hi\",\"no\"\n",
    "first, *middle, last = packed_tuple\n",
    "print(first,middle,last)"
   ]
  },
  {
   "cell_type": "code",
   "execution_count": 83,
   "id": "c46d0558",
   "metadata": {},
   "outputs": [
    {
     "data": {
      "text/plain": [
       "[[0],\n",
       " [2],\n",
       " [4],\n",
       " [6],\n",
       " [8],\n",
       " [10],\n",
       " [12],\n",
       " [14],\n",
       " [16],\n",
       " [18],\n",
       " [20],\n",
       " [22],\n",
       " [24],\n",
       " [26],\n",
       " [28],\n",
       " ['a', 0],\n",
       " ['a', 1],\n",
       " ['a', 2],\n",
       " ['a', 3],\n",
       " ['a', 4],\n",
       " ['a', 5]]"
      ]
     },
     "execution_count": 83,
     "metadata": {},
     "output_type": "execute_result"
    }
   ],
   "source": [
    "list1 = [[m*2] for m in range(15)]\n",
    "list2 = [['a',j] for j in range(6)]\n",
    "list = joinedlist = list1 + list2\n",
    "list"
   ]
  },
  {
   "cell_type": "code",
   "execution_count": 80,
   "id": "c88fccc4",
   "metadata": {},
   "outputs": [
    {
     "data": {
      "text/plain": [
       "['a', 5]"
      ]
     },
     "execution_count": 80,
     "metadata": {},
     "output_type": "execute_result"
    }
   ],
   "source": [
    "list[20][0:2]"
   ]
  },
  {
   "cell_type": "code",
   "execution_count": 84,
   "id": "dd0d2314",
   "metadata": {},
   "outputs": [
    {
     "data": {
      "text/plain": [
       "([0],\n",
       " [2],\n",
       " [4],\n",
       " [6],\n",
       " [8],\n",
       " [10],\n",
       " [12],\n",
       " [14],\n",
       " [16],\n",
       " [18],\n",
       " [20],\n",
       " [22],\n",
       " [24],\n",
       " [26],\n",
       " [28],\n",
       " ['a', 0],\n",
       " ['a', 1],\n",
       " ['a', 2],\n",
       " ['a', 3],\n",
       " ['a', 4],\n",
       " ['a', 5])"
      ]
     },
     "execution_count": 84,
     "metadata": {},
     "output_type": "execute_result"
    }
   ],
   "source": [
    "nested_tuple = tuple(list)\n",
    "nested_tuple"
   ]
  },
  {
   "cell_type": "code",
   "execution_count": 85,
   "id": "02408f5e",
   "metadata": {},
   "outputs": [
    {
     "name": "stdout",
     "output_type": "stream",
     "text": [
      "0\n",
      "2\n",
      "4\n",
      "6\n",
      "8\n",
      "10\n",
      "12\n",
      "14\n",
      "16\n",
      "18\n",
      "20\n",
      "22\n",
      "24\n",
      "26\n",
      "28\n",
      "a0\n",
      "a1\n",
      "a2\n",
      "a3\n",
      "a4\n",
      "a5\n"
     ]
    }
   ],
   "source": [
    "#with this statement whenever its print it would pring along side a blank new line\n",
    "for sub_tuple in nested_tuple:\n",
    "    for i in sub_tuple:\n",
    "        print(i,end = \"\")\n",
    "    print( )\n",
    "          "
   ]
  },
  {
   "cell_type": "code",
   "execution_count": 89,
   "id": "854b2a87",
   "metadata": {},
   "outputs": [],
   "source": [
    "dictionrai = dict()\n",
    "dictionrai ={} \n"
   ]
  },
  {
   "cell_type": "code",
   "execution_count": null,
   "id": "284ce5f7",
   "metadata": {},
   "outputs": [
    {
     "name": "stdout",
     "output_type": "stream",
     "text": [
      "12\n",
      "120\n"
     ]
    },
    {
     "data": {
      "text/plain": [
       "{'name': 'krish', 'Age': 12, 'height': 120, 'grade': 'a', 'address': 'india'}"
      ]
     },
     "execution_count": 94,
     "metadata": {},
     "output_type": "execute_result"
    }
   ],
   "source": [
    "student = {\"name\":\"krish\",\"Age\":12,\"height\":120,\"grade\":'a'}\n",
    "print(student[\"Age\"])\n",
    "print(student.get(\"height\"))\n",
    "student[\"address\"] = \"india\"\n",
    "del student[\"Age\"]\n",
    "student"
   ]
  },
  {
   "cell_type": "code",
   "execution_count": 98,
   "id": "48dfc9de",
   "metadata": {},
   "outputs": [
    {
     "data": {
      "text/plain": [
       "dict_items([('name', 'krish'), ('Age', 12), ('height', 120), ('grade', 'a'), ('address', 'india')])"
      ]
     },
     "execution_count": 98,
     "metadata": {},
     "output_type": "execute_result"
    }
   ],
   "source": [
    "keys = student.keys()\n",
    "keys\n",
    "values = student.values()\n",
    "values\n",
    "items = student.items()\n",
    "items"
   ]
  },
  {
   "cell_type": "code",
   "execution_count": 99,
   "id": "971616dd",
   "metadata": {},
   "outputs": [
    {
     "data": {
      "text/plain": [
       "{'name': 'krish', 'Age': 12, 'height': 120, 'grade': 'a', 'address': 'india'}"
      ]
     },
     "execution_count": 99,
     "metadata": {},
     "output_type": "execute_result"
    }
   ],
   "source": [
    "student_copy = student.copy()\n",
    "student_copy"
   ]
  },
  {
   "cell_type": "code",
   "execution_count": 101,
   "id": "6ba30a56",
   "metadata": {},
   "outputs": [
    {
     "name": "stdout",
     "output_type": "stream",
     "text": [
      "name\n",
      "Age\n",
      "height\n",
      "grade\n",
      "address\n"
     ]
    }
   ],
   "source": [
    "for keys in student.keys():\n",
    "    print(keys)\n",
    "     "
   ]
  },
  {
   "cell_type": "code",
   "execution_count": 102,
   "id": "52474847",
   "metadata": {},
   "outputs": [
    {
     "name": "stdout",
     "output_type": "stream",
     "text": [
      "krish\n",
      "12\n",
      "120\n",
      "a\n",
      "india\n"
     ]
    }
   ],
   "source": [
    "for values in student.values():\n",
    "    print(values)"
   ]
  },
  {
   "cell_type": "code",
   "execution_count": 103,
   "id": "d0ed31ac",
   "metadata": {},
   "outputs": [
    {
     "name": "stdout",
     "output_type": "stream",
     "text": [
      "name :krish\n",
      "Age :12\n",
      "height :120\n",
      "grade :a\n",
      "address :india\n"
     ]
    }
   ],
   "source": [
    "for keys,values in student.items():\n",
    "    print(f\"{keys} :{values}\")"
   ]
  },
  {
   "cell_type": "code",
   "execution_count": 105,
   "id": "eeba840a",
   "metadata": {},
   "outputs": [
    {
     "name": "stdout",
     "output_type": "stream",
     "text": [
      "12\n"
     ]
    }
   ],
   "source": [
    "students = { \n",
    "            \"student1\" :{\"name\":\"krish\",\"Age\":12,\"height\":120,\"grade\":'a'},\n",
    "            \"student2\" :{\"name\":\"mahi\",\"Age\":20,\"height\":190,\"grade\":'b'}\n",
    "}\n",
    "print(students[\"student1\"][\"Age\"])"
   ]
  },
  {
   "cell_type": "code",
   "execution_count": 108,
   "id": "418d36db",
   "metadata": {},
   "outputs": [
    {
     "name": "stdout",
     "output_type": "stream",
     "text": [
      "student1:{'name': 'krish', 'Age': 12, 'height': 120, 'grade': 'a'}\n",
      "name:krish\n",
      "Age:12\n",
      "height:120\n",
      "grade:a\n",
      "student2:{'name': 'mahi', 'Age': 20, 'height': 190, 'grade': 'b'}\n",
      "name:mahi\n",
      "Age:20\n",
      "height:190\n",
      "grade:b\n"
     ]
    }
   ],
   "source": [
    "for student_id, student_info in students.items():\n",
    "    print(f\"{student_id}:{student_info}\")\n",
    "    for key,value in student_info.items():\n",
    "        print(f\"{key}:{value}\")\n",
    "        "
   ]
  },
  {
   "cell_type": "code",
   "execution_count": 111,
   "id": "eb394a97",
   "metadata": {},
   "outputs": [
    {
     "data": {
      "text/plain": [
       "{0: 0, 2: 4, 4: 16, 6: 36, 8: 64}"
      ]
     },
     "execution_count": 111,
     "metadata": {},
     "output_type": "execute_result"
    }
   ],
   "source": [
    "squares = {x:x**2 for x in range(10) if x%2==0}\n",
    "squares"
   ]
  },
  {
   "cell_type": "code",
   "execution_count": 116,
   "id": "62962dcd",
   "metadata": {},
   "outputs": [
    {
     "name": "stdout",
     "output_type": "stream",
     "text": [
      "{1: 1, 2: 2, 3: 1, 4: 1, 5: 1, 6: 5, 7: 1, 8: 1, 9: 2, 0: 2}\n"
     ]
    }
   ],
   "source": [
    "list  = [1,2,3,4,5,6,6,6,6,6,7,8,9,9,0,0,2]\n",
    "dict={}\n",
    "\n",
    "for i in list:\n",
    "    if i in dict:\n",
    "        dict[i]+=1\n",
    "    else:\n",
    "        dict[i] = 1\n",
    "        \n",
    "print(dict)  "
   ]
  },
  {
   "cell_type": "code",
   "execution_count": 117,
   "id": "9c55997f",
   "metadata": {},
   "outputs": [
    {
     "data": {
      "text/plain": [
       "{'a': 1, 'b': 2, 'c': 1, 'd': 2}"
      ]
     },
     "execution_count": 117,
     "metadata": {},
     "output_type": "execute_result"
    }
   ],
   "source": [
    "dict1 = {\"a\":1 , \"b\":2}\n",
    "dict2 = {\"c\":1 , \"d\":2}\n",
    "\n",
    "merged_dic = {**dict1,**dict2}\n",
    "merged_dic"
   ]
  },
  {
   "cell_type": "code",
   "execution_count": 1,
   "id": "fe1ba083",
   "metadata": {},
   "outputs": [
    {
     "name": "stdout",
     "output_type": "stream",
     "text": [
      "positive feedback count: 1\n",
      "user feedabck:\n",
      "-amazing\n",
      "-satisfied\n",
      "-bad\n",
      "-could be better\n",
      "-exelent\n",
      "-not happy\n"
     ]
    }
   ],
   "source": [
    "\n",
    "feedback = [\"amazing\", \"satisfied\", \"bad\", \"could be better\",\"exelent\"]\n",
    "feedback.append(\"not happy\")\n",
    "positive_count = sum(1 for comment in feedback if \"great\" in comment.lower() or \"exelent\" in comment.lower())\n",
    "print(f\"positive feedback count: {positive_count}\")\n",
    "print(\"user feedabck:\")\n",
    "for comment in feedback:\n",
    "    print(f\"-{comment}\")"
   ]
  },
  {
   "cell_type": "code",
   "execution_count": 6,
   "id": "65b6a8f3",
   "metadata": {},
   "outputs": [],
   "source": [
    "\n",
    "def even_or_odd(num):\n",
    "    if num%2==0:\n",
    "        print (\"the number is even\")\n",
    "    else:\n",
    "        print(\"the number is odd\")\n",
    "\n"
   ]
  },
  {
   "cell_type": "code",
   "execution_count": 5,
   "id": "19098b34",
   "metadata": {},
   "outputs": [
    {
     "name": "stdout",
     "output_type": "stream",
     "text": [
      "the number is even\n"
     ]
    }
   ],
   "source": [
    "even_or_odd(24)"
   ]
  },
  {
   "cell_type": "code",
   "execution_count": null,
   "id": "f55cb2b1",
   "metadata": {},
   "outputs": [],
   "source": [
    "def add(a,b):\n",
    "    return a +b\n",
    "    "
   ]
  },
  {
   "cell_type": "code",
   "execution_count": null,
   "id": "16c40042",
   "metadata": {},
   "outputs": [
    {
     "data": {
      "text/plain": [
       "22"
      ]
     },
     "execution_count": 10,
     "metadata": {},
     "output_type": "execute_result"
    }
   ],
   "source": [
    "a = 10\n",
    "b = 12\n",
    "result = add(a,b)"
   ]
  },
  {
   "cell_type": "code",
   "execution_count": 13,
   "id": "9d77ed9f",
   "metadata": {},
   "outputs": [
    {
     "name": "stdout",
     "output_type": "stream",
     "text": [
      "hellow dearGuest, hope u would enjoy it\n"
     ]
    }
   ],
   "source": [
    "def great(name = \"Guest\"):\n",
    "    print(f\"hellow dear{name}, hope u would enjoy it\")\n",
    "\n",
    "great()"
   ]
  },
  {
   "cell_type": "code",
   "execution_count": 20,
   "id": "815bd57c",
   "metadata": {},
   "outputs": [],
   "source": [
    "def print_numbers(*args):\n",
    "    for i in args:\n",
    "        print(i)"
   ]
  },
  {
   "cell_type": "code",
   "execution_count": 21,
   "id": "6b4e2317",
   "metadata": {},
   "outputs": [
    {
     "name": "stdout",
     "output_type": "stream",
     "text": [
      "1\n",
      "2\n",
      "3\n",
      "4\n",
      "5\n",
      "6\n",
      "7\n",
      "8\n",
      "9\n",
      "args\n"
     ]
    }
   ],
   "source": [
    "print_numbers(1,2,3,4,5,6,7,8,9,\"args\")"
   ]
  },
  {
   "cell_type": "code",
   "execution_count": 48,
   "id": "1a1aa822",
   "metadata": {},
   "outputs": [],
   "source": [
    "def print_details(**kwargs):\n",
    "    print(kwargs)\n",
    "    for key,value in kwargs.items():\n",
    "        print(f\"{key}:{value}\")\n",
    "        \n",
    "    "
   ]
  },
  {
   "cell_type": "code",
   "execution_count": 49,
   "id": "c92fc15c",
   "metadata": {},
   "outputs": [
    {
     "name": "stdout",
     "output_type": "stream",
     "text": [
      "{'name': 'krish', 'age': '32', 'kilo': 'jjjj'}\n",
      "name:krish\n",
      "age:32\n",
      "kilo:jjjj\n"
     ]
    }
   ],
   "source": [
    "print_details(name =\"krish\", age =\"32\", kilo= \"jjjj\")\n",
    "    "
   ]
  },
  {
   "cell_type": "code",
   "execution_count": 50,
   "id": "1c6ef4a8",
   "metadata": {},
   "outputs": [],
   "source": [
    "def print_it(*args, **kwargs):\n",
    "    for val in args:\n",
    "        print(f\"potentional arg:{val}\")\n",
    "    for key,value in kwargs.items():\n",
    "        print(f\"{key}:{value}\")"
   ]
  },
  {
   "cell_type": "code",
   "execution_count": 51,
   "id": "93a5c9ab",
   "metadata": {},
   "outputs": [
    {
     "name": "stdout",
     "output_type": "stream",
     "text": [
      "potentional arg:1\n",
      "potentional arg:2\n",
      "potentional arg:3\n",
      "potentional arg:4\n",
      "potentional arg:5\n",
      "name:krish\n",
      "age:32\n",
      "kilo:jjjj\n"
     ]
    }
   ],
   "source": [
    "print_it(1,2,3,4,5,name =\"krish\", age =\"32\", kilo= \"jjjj\")"
   ]
  },
  {
   "cell_type": "code",
   "execution_count": 53,
   "id": "a2b2e591",
   "metadata": {},
   "outputs": [
    {
     "data": {
      "text/plain": [
       "(12, 3)"
      ]
     },
     "execution_count": 53,
     "metadata": {},
     "output_type": "execute_result"
    }
   ],
   "source": [
    "def multiply(a,b):\n",
    "    return a*b,a\n",
    "multiply(3,4)"
   ]
  },
  {
   "cell_type": "code",
   "execution_count": 56,
   "id": "b507c1bd",
   "metadata": {},
   "outputs": [
    {
     "data": {
      "text/plain": [
       "107.6"
      ]
     },
     "execution_count": 56,
     "metadata": {},
     "output_type": "execute_result"
    }
   ],
   "source": [
    "def convert_temperature(temp,uint):\n",
    "    if uint =='C':\n",
    "        return temp * 9/5 + 32\n",
    "    elif uint == 'F':\n",
    "        return (temp - 32) * 5/9\n",
    "    else:\n",
    "        return None\n",
    "\n",
    "convert_temperature(42,'C')\n",
    "        \n",
    "    "
   ]
  },
  {
   "cell_type": "code",
   "execution_count": 57,
   "id": "1f9991e8",
   "metadata": {},
   "outputs": [],
   "source": [
    "def pass_strong(password):\n",
    "    if len(password) < 8:\n",
    "        print(\"the password need to be more than 8 character\")\n",
    "        return False\n",
    "    if not any(char.isdigit() for char in password):\n",
    "        print(\"the password need to have digit in it\")\n",
    "        return False\n",
    "    if not any(char.isupper() for char in password):\n",
    "        print(\"the password need to have uppercase in it\")\n",
    "        return False\n",
    "    if not any(char in '!@$^^*' for char in password):\n",
    "        print(\"the password need to have special in it\")\n",
    "        return False\n",
    "    return True"
   ]
  },
  {
   "cell_type": "code",
   "execution_count": 58,
   "id": "0ab1c734",
   "metadata": {},
   "outputs": [
    {
     "name": "stdout",
     "output_type": "stream",
     "text": [
      "the password need to be more than 8 character\n"
     ]
    },
    {
     "data": {
      "text/plain": [
       "False"
      ]
     },
     "execution_count": 58,
     "metadata": {},
     "output_type": "execute_result"
    }
   ],
   "source": [
    "pass_strong(\"133w\")"
   ]
  },
  {
   "cell_type": "code",
   "execution_count": 59,
   "id": "ca1545a3",
   "metadata": {},
   "outputs": [
    {
     "data": {
      "text/plain": [
       "97000"
      ]
     },
     "execution_count": 59,
     "metadata": {},
     "output_type": "execute_result"
    }
   ],
   "source": [
    "cart = [\n",
    "    {'name':'apple','quantity':2, 'price':1000},\n",
    "    {'name':'milk','quantity':4, 'price':10000},\n",
    "    {'name':'socks','quantity':1, 'price':55000}\n",
    "]\n",
    "total_cost = 0\n",
    "\n",
    "def calculate_items(cart):\n",
    "    total_cost = 0\n",
    "    for item in cart:\n",
    "        total_cost += item['price']*item['quantity']\n",
    "    return total_cost\n",
    "\n",
    "calculate_items(cart)"
   ]
  },
  {
   "cell_type": "code",
   "execution_count": 64,
   "id": "4a12a12b",
   "metadata": {},
   "outputs": [],
   "source": [
    "def is_palindrome(s):\n",
    "    s = s.lower().replace(\" \",\"\")\n",
    "    \"so this part would reverse the string\"\n",
    "    return s==s[::-1]"
   ]
  },
  {
   "cell_type": "code",
   "execution_count": 66,
   "id": "47e56aea",
   "metadata": {},
   "outputs": [
    {
     "name": "stdout",
     "output_type": "stream",
     "text": [
      "True\n",
      "False\n"
     ]
    }
   ],
   "source": [
    "print(is_palindrome(\"A Man a plan a canal Panama\"))\n",
    "print(is_palindrome(\"Hello\"))"
   ]
  },
  {
   "cell_type": "code",
   "execution_count": 71,
   "id": "6322a98f",
   "metadata": {},
   "outputs": [],
   "source": [
    "def factorial(n):\n",
    "    if n==0:\n",
    "        return 1\n",
    "    else:\n",
    "        return n * factorial(n-1)\n",
    "        "
   ]
  },
  {
   "cell_type": "code",
   "execution_count": 72,
   "id": "56a3c960",
   "metadata": {},
   "outputs": [
    {
     "data": {
      "text/plain": [
       "720"
      ]
     },
     "execution_count": 72,
     "metadata": {},
     "output_type": "execute_result"
    }
   ],
   "source": [
    "factorial(6)"
   ]
  },
  {
   "cell_type": "code",
   "execution_count": null,
   "id": "15bdf863",
   "metadata": {},
   "outputs": [],
   "source": [
    "def count_word_freq(file_path):\n",
    "    \n",
    "    "
   ]
  },
  {
   "cell_type": "code",
   "execution_count": 73,
   "id": "17ab9b69",
   "metadata": {},
   "outputs": [
    {
     "data": {
      "text/plain": [
       "<function __main__.<lambda>(arguments)>"
      ]
     },
     "execution_count": 73,
     "metadata": {},
     "output_type": "execute_result"
    }
   ],
   "source": [
    "lambda arguments: expression\n"
   ]
  },
  {
   "cell_type": "code",
   "execution_count": 76,
   "id": "e1afb1e4",
   "metadata": {},
   "outputs": [
    {
     "name": "stdout",
     "output_type": "stream",
     "text": [
      "3\n"
     ]
    }
   ],
   "source": [
    "addition = lambda a,b:a+b\n",
    "print(addition(1,2))"
   ]
  },
  {
   "cell_type": "code",
   "execution_count": 78,
   "id": "695b8bab",
   "metadata": {},
   "outputs": [
    {
     "data": {
      "text/plain": [
       "True"
      ]
     },
     "execution_count": 78,
     "metadata": {},
     "output_type": "execute_result"
    }
   ],
   "source": [
    "even = lambda a:a%2==0\n",
    "even(4)"
   ]
  },
  {
   "cell_type": "code",
   "execution_count": 79,
   "id": "05aaca06",
   "metadata": {},
   "outputs": [],
   "source": [
    "def sq(x):\n",
    "    return x*x\n",
    "\n",
    "numbers = [1,2,3,4,5,6,7,8,9,0]"
   ]
  },
  {
   "cell_type": "code",
   "execution_count": 82,
   "id": "9a539ffd",
   "metadata": {},
   "outputs": [
    {
     "data": {
      "text/plain": [
       "[1, 4, 9, 16, 25, 36, 49, 64, 81, 0]"
      ]
     },
     "execution_count": 82,
     "metadata": {},
     "output_type": "execute_result"
    }
   ],
   "source": [
    "list(map(sq, numbers))"
   ]
  },
  {
   "cell_type": "code",
   "execution_count": 84,
   "id": "22aaa4c4",
   "metadata": {},
   "outputs": [
    {
     "data": {
      "text/plain": [
       "[1, 4, 9, 16, 25, 36, 49, 64, 81, 0]"
      ]
     },
     "execution_count": 84,
     "metadata": {},
     "output_type": "execute_result"
    }
   ],
   "source": [
    "list(map(lambda x:x*x, numbers) )"
   ]
  },
  {
   "cell_type": "code",
   "execution_count": 86,
   "id": "fb4b2441",
   "metadata": {},
   "outputs": [
    {
     "name": "stdout",
     "output_type": "stream",
     "text": [
      "[5, 7, 12, 13, 13]\n"
     ]
    }
   ],
   "source": [
    "numbers1 = [1,2,3,5,6]\n",
    "numbers2 = [4,5,9,8,7]\n",
    "added_numbers = list(map(lambda x,y:x+y, numbers1,numbers2))\n",
    "print(added_numbers)"
   ]
  },
  {
   "cell_type": "code",
   "execution_count": 87,
   "id": "70b1bacf",
   "metadata": {},
   "outputs": [
    {
     "name": "stdout",
     "output_type": "stream",
     "text": [
      "[2, 1, 3, 4, 7]\n"
     ]
    }
   ],
   "source": [
    "str_num = ['2','1','3','4','7']\n",
    "int_num = list(map(int,str_num))\n",
    "print(int_num)"
   ]
  },
  {
   "cell_type": "code",
   "execution_count": 88,
   "id": "e661ad89",
   "metadata": {},
   "outputs": [
    {
     "name": "stdout",
     "output_type": "stream",
     "text": [
      "['APPLE', 'YOU', 'BENANA']\n"
     ]
    }
   ],
   "source": [
    "words = ['apple','you','benana']\n",
    "upper_word = list(map(str.upper,words))\n",
    "print(upper_word)"
   ]
  },
  {
   "cell_type": "code",
   "execution_count": 89,
   "id": "a39726ec",
   "metadata": {},
   "outputs": [],
   "source": [
    "def even(num):\n",
    "    if num%2==0:\n",
    "        return True\n",
    "    "
   ]
  },
  {
   "cell_type": "code",
   "execution_count": 90,
   "id": "bc6c5121",
   "metadata": {},
   "outputs": [
    {
     "name": "stdout",
     "output_type": "stream",
     "text": [
      "[6, 7, 8, 9, 10, 11, 12, 13, 14, 15]\n"
     ]
    }
   ],
   "source": [
    "lst = []\n",
    "def createdf(i):\n",
    "    for i in range(i,i+10):\n",
    "        lst.append(i)\n",
    "    return lst\n",
    "\n",
    "print(createdf(6))"
   ]
  },
  {
   "cell_type": "code",
   "execution_count": null,
   "id": "138ce481",
   "metadata": {},
   "outputs": [
    {
     "data": {
      "text/plain": [
       "[6, 8, 10, 12, 14]"
      ]
     },
     "execution_count": 94,
     "metadata": {},
     "output_type": "execute_result"
    }
   ],
   "source": [
    "list(filter(even,lst))"
   ]
  },
  {
   "cell_type": "code",
   "execution_count": 95,
   "id": "cf305c9c",
   "metadata": {},
   "outputs": [
    {
     "name": "stdout",
     "output_type": "stream",
     "text": [
      "[6, 7, 8, 9, 10, 11, 12, 13, 14, 15]\n"
     ]
    }
   ],
   "source": [
    "greater_than_five = list(filter(lambda x:x>5,lst))\n",
    "print(greater_than_five)"
   ]
  },
  {
   "cell_type": "code",
   "execution_count": 96,
   "id": "62c06ffc",
   "metadata": {},
   "outputs": [
    {
     "name": "stdout",
     "output_type": "stream",
     "text": [
      "[6, 8, 10, 12, 14]\n"
     ]
    }
   ],
   "source": [
    "greater_than_five = list(filter(lambda x:x>5 and x%2==0, lst))\n",
    "print(greater_than_five)"
   ]
  },
  {
   "cell_type": "code",
   "execution_count": 98,
   "id": "cdc035a9",
   "metadata": {},
   "outputs": [
    {
     "data": {
      "text/plain": [
       "[{'name': 'krish', 'age': 22}, {'name': 'md', 'age': 40}]"
      ]
     },
     "execution_count": 98,
     "metadata": {},
     "output_type": "execute_result"
    }
   ],
   "source": [
    "people = [\n",
    "    {'name':'krish','age':22},\n",
    "    {'name':'sd','age':14},\n",
    "    {'name':'md','age':40}    \n",
    "]\n",
    "\n",
    "def agemorethan20(person):\n",
    "    return person['age'] >15\n",
    "\n",
    "list(filter(agemorethan20,people))"
   ]
  },
  {
   "cell_type": "code",
   "execution_count": 3,
   "id": "f6c85f6b",
   "metadata": {},
   "outputs": [
    {
     "name": "stdout",
     "output_type": "stream",
     "text": [
      "4\n"
     ]
    }
   ],
   "source": [
    "class car:\n",
    "    pass\n",
    "\n",
    "audi = car()\n",
    "audi.window =4\n",
    "print(audi.window)\n"
   ]
  },
  {
   "cell_type": "code",
   "execution_count": 7,
   "id": "a37d5cc8",
   "metadata": {},
   "outputs": [
    {
     "name": "stdout",
     "output_type": "stream",
     "text": [
      "mary says woof\n"
     ]
    }
   ],
   "source": [
    "class dog:\n",
    "    def __init__(self,name,age):\n",
    "        self.name = name\n",
    "        self.age = age\n",
    "        \n",
    "    def bark(self):\n",
    "        print(f\"{self.name} says woof\") \n",
    "       \n",
    "       \n",
    "dog1 = dog(\"mary\",23)   \n",
    "dog1.bark()"
   ]
  },
  {
   "cell_type": "code",
   "execution_count": null,
   "id": "2ff7509c",
   "metadata": {},
   "outputs": [],
   "source": [
    "class bank:\n",
    "    def __init__(self,name,balance = 0):\n",
    "        self.name = name\n",
    "        self.balance = balance\n",
    "        \n",
    "    def deposite(self,amount):\n",
    "        self.balance += amount\n",
    "        print(f\"{amount} send to your account. now your budget is{self.balance}\")\n",
    "    \n",
    "    def widraw(self,amount):\n",
    "        if amount > self.balance:\n",
    "            print(\"you dont have enough budget\")\n",
    "        else:\n",
    "            self.balance -= amount\n",
    "        print(f\"{amount} take from your account. now your budget is{self.balance}\")\n",
    "    \n",
    "    def get_balance(self):\n",
    "        return self.balance\n",
    "\n",
    "account = bank(\"masi\", 10000)\n"
   ]
  },
  {
   "cell_type": "code",
   "execution_count": 15,
   "id": "0122fd33",
   "metadata": {},
   "outputs": [
    {
     "name": "stdout",
     "output_type": "stream",
     "text": [
      "you dont have enough budget\n",
      "150000 take from your account. now your budget is10000\n"
     ]
    }
   ],
   "source": [
    "account.widraw(150000)      \n"
   ]
  }
 ],
 "metadata": {
  "kernelspec": {
   "display_name": "Python 3",
   "language": "python",
   "name": "python3"
  },
  "language_info": {
   "codemirror_mode": {
    "name": "ipython",
    "version": 3
   },
   "file_extension": ".py",
   "mimetype": "text/x-python",
   "name": "python",
   "nbconvert_exporter": "python",
   "pygments_lexer": "ipython3",
   "version": "3.12.1"
  }
 },
 "nbformat": 4,
 "nbformat_minor": 5
}
